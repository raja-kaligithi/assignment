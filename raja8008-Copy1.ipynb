{
 "cells": [
  {
   "cell_type": "markdown",
   "id": "ada9b5b7",
   "metadata": {},
   "source": [
    "# \"my jupyter notebook on IBM Watson Studio\" "
   ]
  },
  {
   "cell_type": "markdown",
   "id": "c2919af2",
   "metadata": {},
   "source": [
    "<b> KALIGITHI RAJA JAMES PAUL </b> \n",
    "\n",
    "i completed my degree and iam serching for job. my desired is to become good data scienctist"
   ]
  },
  {
   "cell_type": "markdown",
   "id": "07f49360",
   "metadata": {},
   "source": [
    "_i am interested in data science because i love investigating. data science is nothing but investigation of data._\n",
    "_i am also love to work in front of computer._"
   ]
  },
  {
   "cell_type": "markdown",
   "id": "032ee8a0",
   "metadata": {},
   "source": [
    "## below code suppose to multiply to variables."
   ]
  },
  {
   "cell_type": "code",
   "execution_count": 1,
   "id": "9c3c7d0d",
   "metadata": {
    "scrolled": true
   },
   "outputs": [
    {
     "name": "stdout",
     "output_type": "stream",
     "text": [
      "35\n"
     ]
    }
   ],
   "source": [
    "a=5\n",
    "b=7\n",
    "c=a*b\n",
    "print(c)"
   ]
  },
  {
   "cell_type": "markdown",
   "id": "108b1c7f",
   "metadata": {},
   "source": [
    "### bullets \n",
    "- this is circular bullets\n"
   ]
  },
  {
   "cell_type": "markdown",
   "id": "432b6787",
   "metadata": {},
   "source": [
    "### number list\n",
    "1. the number line"
   ]
  },
  {
   "cell_type": "markdown",
   "id": "bafb7fcd",
   "metadata": {},
   "source": [
    "### indented quoting:\n",
    "> this is the first line.\n",
    "\n",
    "> this is the secound line."
   ]
  }
 ],
 "metadata": {
  "kernelspec": {
   "display_name": "Python 3",
   "language": "python",
   "name": "python3"
  },
  "language_info": {
   "codemirror_mode": {
    "name": "ipython",
    "version": 3
   },
   "file_extension": ".py",
   "mimetype": "text/x-python",
   "name": "python",
   "nbconvert_exporter": "python",
   "pygments_lexer": "ipython3",
   "version": "3.6.15"
  }
 },
 "nbformat": 4,
 "nbformat_minor": 5
}
